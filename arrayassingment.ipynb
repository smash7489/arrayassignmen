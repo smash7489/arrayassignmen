{
 "cells": [
  {
   "cell_type": "code",
   "execution_count": 4,
   "id": "86c090c5-95ba-4af2-b4be-e7e6434680f9",
   "metadata": {},
   "outputs": [
    {
     "name": "stdout",
     "output_type": "stream",
     "text": [
      "True\n"
     ]
    }
   ],
   "source": [
    " \"\"\"1. Given an array, check if it contains any duplicates or not.\n",
    "arr = [1, 2, 4, 2, 5, 9]\n",
    "Output = True\"\"\"\n",
    "\n",
    "def has_duplicates(arr):\n",
    "    return len(arr) != len(set(arr))\n",
    "\n",
    "arr = [1, 2, 4, 2, 5, 9]\n",
    "print(has_duplicates(arr))\n"
   ]
  },
  {
   "cell_type": "code",
   "execution_count": 7,
   "id": "ff4c55f4-da88-4b8b-819b-be7e92cf100c",
   "metadata": {},
   "outputs": [
    {
     "data": {
      "text/plain": [
       "[5, 6, 7, 1, 2, 3, 4]"
      ]
     },
     "execution_count": 7,
     "metadata": {},
     "output_type": "execute_result"
    }
   ],
   "source": [
    "\"\"\"2. Given an array and an integer k, rotate the array to the right by k steps.\n",
    "arr = [1, 2, 3, 4, 5, 6, 7] k = 3\n",
    "Output = [5, 6, 7, 1, 2, 3, 4]\"\"\"\n",
    "\n",
    "def rotate_array(arr, k):\n",
    "    n = len(arr)\n",
    "    k = k % n\n",
    "    return arr[-k:] + arr[:-k]\n",
    "arr = [1, 2, 3, 4, 5, 6, 7] \n",
    "k = 3\n",
    "rotate_array(arr,k)\n",
    "\n"
   ]
  },
  {
   "cell_type": "code",
   "execution_count": 12,
   "id": "5f0b9a46-f96d-4acc-8020-7305fcdb9096",
   "metadata": {},
   "outputs": [
    {
     "name": "stdout",
     "output_type": "stream",
     "text": [
      "[12, 9, 7, 5, 4, 2]\n"
     ]
    }
   ],
   "source": [
    "\"\"\"3. Reverse the given array in-place, means without using any extra data structure.\n",
    "arr = [2, 4, 5, 7, 9, 12]\n",
    "Output = [12, 9, 7, 5, 4, 2]\"\"\"\n",
    "\n",
    "#two pointer method \n",
    "\n",
    "def reverse_in_place(arr):\n",
    "    start = 0\n",
    "    end = len(arr) -1\n",
    "    while start < end:\n",
    "        arr[start],arr[end] = arr[end], arr[start]\n",
    "        start += 1\n",
    "        end -= 1\n",
    "    return arr\n",
    "\n",
    "\n",
    "arr = [2, 4, 5, 7, 9, 12]\n",
    "reverse_in_place(arr)\n",
    "print(arr)\n",
    "\n"
   ]
  },
  {
   "cell_type": "code",
   "execution_count": 15,
   "id": "182cd861-6542-4188-b7fd-6d0dfa7df0c5",
   "metadata": {},
   "outputs": [
    {
     "name": "stdout",
     "output_type": "stream",
     "text": [
      "20\n"
     ]
    }
   ],
   "source": [
    "\"\"\"4. Given an array of integers, find the maximum element in an array\n",
    "arr = [10, 5, 20, 8, 15]\n",
    "Output = 20\"\"\"\n",
    "def find_max(arr):\n",
    "    max_element = arr[0]  \n",
    "    for num in arr:\n",
    "        if num > max_element:\n",
    "            max_element = num\n",
    "    return max_element\n",
    "\n",
    "\n",
    "arr = [10, 5, 20, 8, 15]\n",
    "print(find_max(arr))\n",
    "\n"
   ]
  },
  {
   "cell_type": "code",
   "execution_count": null,
   "id": "a6223975-619c-4d40-921d-6b3477701f58",
   "metadata": {},
   "outputs": [],
   "source": [
    "\"\"\"5. Given a sorted array, remove the duplicate element without using any extra data structure.\n",
    "arr = [1, 1, 2, 2, 2, 3, 3, 4, 4, 4, 5, 5]\n",
    "Output = [1, 2, 3, 4, 5]\"\"\"\n",
    "\n",
    "\n",
    "def remove_duplicates(arr):\n",
    "    if not arr:\n",
    "        return 0\n",
    "\n",
    "    j = 0  # slow pointer\n",
    "\n",
    "    for i in range(1, len(arr)):\n",
    "        if arr[i] != arr[j]:\n",
    "            j += 1\n",
    "            arr[j] = arr[i]\n",
    "\n",
    "    # Optionally trim extra elements if needed\n",
    "    return arr[:j+1]\n",
    "\n",
    "# Example\n",
    "arr = [1, 1, 2, 2, 2, 3, 3, 4, 4, 4, 5, 5]\n",
    "result = remove_duplicates(arr)\n",
    "print(result)  # Output: [1, 2, 3, 4, 5]\n",
    "\n"
   ]
  },
  {
   "cell_type": "code",
   "execution_count": null,
   "id": "c6a5e054-53ab-4ee6-b755-8f6f8ac2b91d",
   "metadata": {},
   "outputs": [],
   "source": []
  },
  {
   "cell_type": "code",
   "execution_count": null,
   "id": "3ab39f13-bd3b-47bd-847d-351b2a27ad0d",
   "metadata": {},
   "outputs": [],
   "source": []
  },
  {
   "cell_type": "code",
   "execution_count": null,
   "id": "78140487-0c97-4220-9842-832a375966d8",
   "metadata": {},
   "outputs": [],
   "source": []
  }
 ],
 "metadata": {
  "kernelspec": {
   "display_name": "Python 3 (ipykernel)",
   "language": "python",
   "name": "python3"
  },
  "language_info": {
   "codemirror_mode": {
    "name": "ipython",
    "version": 3
   },
   "file_extension": ".py",
   "mimetype": "text/x-python",
   "name": "python",
   "nbconvert_exporter": "python",
   "pygments_lexer": "ipython3",
   "version": "3.12.7"
  }
 },
 "nbformat": 4,
 "nbformat_minor": 5
}
